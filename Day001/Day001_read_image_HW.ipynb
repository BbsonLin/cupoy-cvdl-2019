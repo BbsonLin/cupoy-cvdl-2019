{
 "cells": [
  {
   "cell_type": "markdown",
   "metadata": {},
   "source": [
    "# 作業\n",
    "\n",
    "思考一下我們前面有提到圖片是矩陣，但維度可能會不一樣\n",
    "例如灰階圖只有兩個維度，RGB 彩圖則有 3 個維度\n",
    "\n",
    "假如今天我們把 RGB 3 個維度拆開來看會有甚麼不同的效果呢？"
   ]
  },
  {
   "cell_type": "code",
   "execution_count": 20,
   "metadata": {},
   "outputs": [],
   "source": [
    "import cv2"
   ]
  },
  {
   "cell_type": "code",
   "execution_count": 21,
   "metadata": {},
   "outputs": [
    {
     "name": "stdout",
     "output_type": "stream",
     "text": [
      "(512, 512, 3)\n"
     ]
    },
    {
     "data": {
      "text/plain": [
       "array([[[125, 137, 226],\n",
       "        [125, 137, 226],\n",
       "        [133, 137, 223],\n",
       "        ...,\n",
       "        [122, 148, 230],\n",
       "        [110, 130, 221],\n",
       "        [ 90,  99, 200]],\n",
       "\n",
       "       [[125, 137, 226],\n",
       "        [125, 137, 226],\n",
       "        [133, 137, 223],\n",
       "        ...,\n",
       "        [122, 148, 230],\n",
       "        [110, 130, 221],\n",
       "        [ 90,  99, 200]],\n",
       "\n",
       "       [[125, 137, 226],\n",
       "        [125, 137, 226],\n",
       "        [133, 137, 223],\n",
       "        ...,\n",
       "        [122, 148, 230],\n",
       "        [110, 130, 221],\n",
       "        [ 90,  99, 200]],\n",
       "\n",
       "       ...,\n",
       "\n",
       "       [[ 60,  18,  84],\n",
       "        [ 60,  18,  84],\n",
       "        [ 58,  27,  92],\n",
       "        ...,\n",
       "        [ 84,  73, 173],\n",
       "        [ 76,  68, 172],\n",
       "        [ 79,  62, 177]],\n",
       "\n",
       "       [[ 57,  22,  82],\n",
       "        [ 57,  22,  82],\n",
       "        [ 62,  32,  96],\n",
       "        ...,\n",
       "        [ 79,  70, 179],\n",
       "        [ 81,  71, 181],\n",
       "        [ 81,  74, 185]],\n",
       "\n",
       "       [[ 57,  22,  82],\n",
       "        [ 57,  22,  82],\n",
       "        [ 62,  32,  96],\n",
       "        ...,\n",
       "        [ 79,  70, 179],\n",
       "        [ 81,  71, 181],\n",
       "        [ 81,  74, 185]]], dtype=uint8)"
      ]
     },
     "execution_count": 21,
     "metadata": {},
     "output_type": "execute_result"
    }
   ],
   "source": [
    "color_image = cv2.imread('./data/lena.png')\n",
    "print(color_image.shape)\n",
    "color_image"
   ]
  },
  {
   "cell_type": "code",
   "execution_count": 22,
   "metadata": {},
   "outputs": [
    {
     "data": {
      "text/plain": [
       "array([[[125,   0,   0],\n",
       "        [125,   0,   0],\n",
       "        [133,   0,   0],\n",
       "        ...,\n",
       "        [122,   0,   0],\n",
       "        [110,   0,   0],\n",
       "        [ 90,   0,   0]],\n",
       "\n",
       "       [[125,   0,   0],\n",
       "        [125,   0,   0],\n",
       "        [133,   0,   0],\n",
       "        ...,\n",
       "        [122,   0,   0],\n",
       "        [110,   0,   0],\n",
       "        [ 90,   0,   0]],\n",
       "\n",
       "       [[125,   0,   0],\n",
       "        [125,   0,   0],\n",
       "        [133,   0,   0],\n",
       "        ...,\n",
       "        [122,   0,   0],\n",
       "        [110,   0,   0],\n",
       "        [ 90,   0,   0]],\n",
       "\n",
       "       ...,\n",
       "\n",
       "       [[ 60,   0,   0],\n",
       "        [ 60,   0,   0],\n",
       "        [ 58,   0,   0],\n",
       "        ...,\n",
       "        [ 84,   0,   0],\n",
       "        [ 76,   0,   0],\n",
       "        [ 79,   0,   0]],\n",
       "\n",
       "       [[ 57,   0,   0],\n",
       "        [ 57,   0,   0],\n",
       "        [ 62,   0,   0],\n",
       "        ...,\n",
       "        [ 79,   0,   0],\n",
       "        [ 81,   0,   0],\n",
       "        [ 81,   0,   0]],\n",
       "\n",
       "       [[ 57,   0,   0],\n",
       "        [ 57,   0,   0],\n",
       "        [ 62,   0,   0],\n",
       "        ...,\n",
       "        [ 79,   0,   0],\n",
       "        [ 81,   0,   0],\n",
       "        [ 81,   0,   0]]], dtype=uint8)"
      ]
     },
     "execution_count": 22,
     "metadata": {},
     "output_type": "execute_result"
    }
   ],
   "source": [
    "channal_0_image = color_image.copy()\n",
    "channal_0_image[:,:,1] = 0\n",
    "channal_0_image[:,:,2] = 0\n",
    "channal_0_image"
   ]
  },
  {
   "cell_type": "code",
   "execution_count": 23,
   "metadata": {},
   "outputs": [
    {
     "data": {
      "text/plain": [
       "array([[[  0, 137,   0],\n",
       "        [  0, 137,   0],\n",
       "        [  0, 137,   0],\n",
       "        ...,\n",
       "        [  0, 148,   0],\n",
       "        [  0, 130,   0],\n",
       "        [  0,  99,   0]],\n",
       "\n",
       "       [[  0, 137,   0],\n",
       "        [  0, 137,   0],\n",
       "        [  0, 137,   0],\n",
       "        ...,\n",
       "        [  0, 148,   0],\n",
       "        [  0, 130,   0],\n",
       "        [  0,  99,   0]],\n",
       "\n",
       "       [[  0, 137,   0],\n",
       "        [  0, 137,   0],\n",
       "        [  0, 137,   0],\n",
       "        ...,\n",
       "        [  0, 148,   0],\n",
       "        [  0, 130,   0],\n",
       "        [  0,  99,   0]],\n",
       "\n",
       "       ...,\n",
       "\n",
       "       [[  0,  18,   0],\n",
       "        [  0,  18,   0],\n",
       "        [  0,  27,   0],\n",
       "        ...,\n",
       "        [  0,  73,   0],\n",
       "        [  0,  68,   0],\n",
       "        [  0,  62,   0]],\n",
       "\n",
       "       [[  0,  22,   0],\n",
       "        [  0,  22,   0],\n",
       "        [  0,  32,   0],\n",
       "        ...,\n",
       "        [  0,  70,   0],\n",
       "        [  0,  71,   0],\n",
       "        [  0,  74,   0]],\n",
       "\n",
       "       [[  0,  22,   0],\n",
       "        [  0,  22,   0],\n",
       "        [  0,  32,   0],\n",
       "        ...,\n",
       "        [  0,  70,   0],\n",
       "        [  0,  71,   0],\n",
       "        [  0,  74,   0]]], dtype=uint8)"
      ]
     },
     "execution_count": 23,
     "metadata": {},
     "output_type": "execute_result"
    }
   ],
   "source": [
    "channal_1_image = color_image.copy()\n",
    "channal_1_image[:,:,0] = 0\n",
    "channal_1_image[:,:,2] = 0\n",
    "channal_1_image"
   ]
  },
  {
   "cell_type": "code",
   "execution_count": 24,
   "metadata": {},
   "outputs": [
    {
     "data": {
      "text/plain": [
       "array([[[  0,   0, 226],\n",
       "        [  0,   0, 226],\n",
       "        [  0,   0, 223],\n",
       "        ...,\n",
       "        [  0,   0, 230],\n",
       "        [  0,   0, 221],\n",
       "        [  0,   0, 200]],\n",
       "\n",
       "       [[  0,   0, 226],\n",
       "        [  0,   0, 226],\n",
       "        [  0,   0, 223],\n",
       "        ...,\n",
       "        [  0,   0, 230],\n",
       "        [  0,   0, 221],\n",
       "        [  0,   0, 200]],\n",
       "\n",
       "       [[  0,   0, 226],\n",
       "        [  0,   0, 226],\n",
       "        [  0,   0, 223],\n",
       "        ...,\n",
       "        [  0,   0, 230],\n",
       "        [  0,   0, 221],\n",
       "        [  0,   0, 200]],\n",
       "\n",
       "       ...,\n",
       "\n",
       "       [[  0,   0,  84],\n",
       "        [  0,   0,  84],\n",
       "        [  0,   0,  92],\n",
       "        ...,\n",
       "        [  0,   0, 173],\n",
       "        [  0,   0, 172],\n",
       "        [  0,   0, 177]],\n",
       "\n",
       "       [[  0,   0,  82],\n",
       "        [  0,   0,  82],\n",
       "        [  0,   0,  96],\n",
       "        ...,\n",
       "        [  0,   0, 179],\n",
       "        [  0,   0, 181],\n",
       "        [  0,   0, 185]],\n",
       "\n",
       "       [[  0,   0,  82],\n",
       "        [  0,   0,  82],\n",
       "        [  0,   0,  96],\n",
       "        ...,\n",
       "        [  0,   0, 179],\n",
       "        [  0,   0, 181],\n",
       "        [  0,   0, 185]]], dtype=uint8)"
      ]
     },
     "execution_count": 24,
     "metadata": {},
     "output_type": "execute_result"
    }
   ],
   "source": [
    "channal_2_image = color_image.copy()\n",
    "channal_2_image[:,:,0] = 0\n",
    "channal_2_image[:,:,1] = 0\n",
    "channal_2_image"
   ]
  },
  {
   "cell_type": "code",
   "execution_count": 25,
   "metadata": {},
   "outputs": [],
   "source": [
    "while True:\n",
    "    cv2.imshow('color image channel 0', channal_0_image)\n",
    "    cv2.imshow('color image channel 1', channal_1_image)\n",
    "    cv2.imshow('color image channel 2', channal_2_image)\n",
    "\n",
    "    # 直到按下 ESC 鍵才會自動關閉視窗結束程式\n",
    "    k = cv2.waitKey(0)\n",
    "    if k == 27:\n",
    "        cv2.destroyAllWindows()\n",
    "        break"
   ]
  },
  {
   "cell_type": "markdown",
   "metadata": {},
   "source": [
    " ![](./image/day001.png)"
   ]
  },
  {
   "cell_type": "code",
   "execution_count": null,
   "metadata": {},
   "outputs": [],
   "source": []
  }
 ],
 "metadata": {
  "kernelspec": {
   "display_name": "Python 3",
   "language": "python",
   "name": "python3"
  },
  "language_info": {
   "codemirror_mode": {
    "name": "ipython",
    "version": 3
   },
   "file_extension": ".py",
   "mimetype": "text/x-python",
   "name": "python",
   "nbconvert_exporter": "python",
   "pygments_lexer": "ipython3",
   "version": "3.6.4"
  }
 },
 "nbformat": 4,
 "nbformat_minor": 2
}
